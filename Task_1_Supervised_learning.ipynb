{
  "nbformat": 4,
  "nbformat_minor": 0,
  "metadata": {
    "colab": {
      "name": "Task_1_Supervised_learning.ipynb",
      "provenance": [],
      "collapsed_sections": [
        "OH9psD6VrVEJ"
      ]
    },
    "kernelspec": {
      "name": "python3",
      "display_name": "Python 3"
    }
  },
  "cells": [
    {
      "cell_type": "markdown",
      "metadata": {
        "id": "Gp7DaO-sqQei"
      },
      "source": [
        "##Name : Sahil Sudhir Utekar\r\n",
        "##\"TASK 1\r\n",
        "#Prediction Using Supervised ML (Level - Beginner)\r\n",
        "#Predict the percentage of marks of a student based on the number of study hours\r\n",
        "#Loading the necessary libraries¶\"\r\n",
        "\r\n",
        "\r\n"
      ]
    },
    {
      "cell_type": "code",
      "metadata": {
        "id": "b4Nue3ugA2Am"
      },
      "source": [
        "import numpy as np\r\n",
        "import pandas as pd\r\n",
        "import matplotlib.pyplot as plt\r\n",
        "import seaborn as sns\r\n"
      ],
      "execution_count": 63,
      "outputs": []
    },
    {
      "cell_type": "markdown",
      "metadata": {
        "id": "m6LdBtslqaf-"
      },
      "source": [
        "Loading the dataset"
      ]
    },
    {
      "cell_type": "code",
      "metadata": {
        "colab": {
          "base_uri": "https://localhost:8080/",
          "height": 197
        },
        "id": "kjsGYI-zBgcM",
        "outputId": "694c2039-f738-4572-8496-91956450397b"
      },
      "source": [
        "url = 'http://bit.ly/w-data'\r\n",
        "df = pd.read_csv(url)\r\n",
        "df.head()"
      ],
      "execution_count": 28,
      "outputs": [
        {
          "output_type": "execute_result",
          "data": {
            "text/html": [
              "<div>\n",
              "<style scoped>\n",
              "    .dataframe tbody tr th:only-of-type {\n",
              "        vertical-align: middle;\n",
              "    }\n",
              "\n",
              "    .dataframe tbody tr th {\n",
              "        vertical-align: top;\n",
              "    }\n",
              "\n",
              "    .dataframe thead th {\n",
              "        text-align: right;\n",
              "    }\n",
              "</style>\n",
              "<table border=\"1\" class=\"dataframe\">\n",
              "  <thead>\n",
              "    <tr style=\"text-align: right;\">\n",
              "      <th></th>\n",
              "      <th>Hours</th>\n",
              "      <th>Scores</th>\n",
              "    </tr>\n",
              "  </thead>\n",
              "  <tbody>\n",
              "    <tr>\n",
              "      <th>0</th>\n",
              "      <td>2.5</td>\n",
              "      <td>21</td>\n",
              "    </tr>\n",
              "    <tr>\n",
              "      <th>1</th>\n",
              "      <td>5.1</td>\n",
              "      <td>47</td>\n",
              "    </tr>\n",
              "    <tr>\n",
              "      <th>2</th>\n",
              "      <td>3.2</td>\n",
              "      <td>27</td>\n",
              "    </tr>\n",
              "    <tr>\n",
              "      <th>3</th>\n",
              "      <td>8.5</td>\n",
              "      <td>75</td>\n",
              "    </tr>\n",
              "    <tr>\n",
              "      <th>4</th>\n",
              "      <td>3.5</td>\n",
              "      <td>30</td>\n",
              "    </tr>\n",
              "  </tbody>\n",
              "</table>\n",
              "</div>"
            ],
            "text/plain": [
              "   Hours  Scores\n",
              "0    2.5      21\n",
              "1    5.1      47\n",
              "2    3.2      27\n",
              "3    8.5      75\n",
              "4    3.5      30"
            ]
          },
          "metadata": {
            "tags": []
          },
          "execution_count": 28
        }
      ]
    },
    {
      "cell_type": "markdown",
      "metadata": {
        "id": "MM1-LRLPuFvH"
      },
      "source": [
        "DataSet Loaded Sucessfully."
      ]
    },
    {
      "cell_type": "markdown",
      "metadata": {
        "id": "yoewCc8IqkCG"
      },
      "source": [
        "Data set size"
      ]
    },
    {
      "cell_type": "code",
      "metadata": {
        "colab": {
          "base_uri": "https://localhost:8080/"
        },
        "id": "ri3YlsW4Blon",
        "outputId": "0d5408d9-acef-41b5-8509-c5da0ffed84f"
      },
      "source": [
        "df.shape\r\n",
        "\r\n",
        "\r\n",
        "\r\n"
      ],
      "execution_count": 29,
      "outputs": [
        {
          "output_type": "execute_result",
          "data": {
            "text/plain": [
              "(25, 2)"
            ]
          },
          "metadata": {
            "tags": []
          },
          "execution_count": 29
        }
      ]
    },
    {
      "cell_type": "code",
      "metadata": {
        "colab": {
          "base_uri": "https://localhost:8080/"
        },
        "id": "nQ71sYBDBuVr",
        "outputId": "af90bbb2-281c-4df2-b5e8-8925457f5da7"
      },
      "source": [
        "df.info()\r\n"
      ],
      "execution_count": 30,
      "outputs": [
        {
          "output_type": "stream",
          "text": [
            "<class 'pandas.core.frame.DataFrame'>\n",
            "RangeIndex: 25 entries, 0 to 24\n",
            "Data columns (total 2 columns):\n",
            " #   Column  Non-Null Count  Dtype  \n",
            "---  ------  --------------  -----  \n",
            " 0   Hours   25 non-null     float64\n",
            " 1   Scores  25 non-null     int64  \n",
            "dtypes: float64(1), int64(1)\n",
            "memory usage: 528.0 bytes\n"
          ],
          "name": "stdout"
        }
      ]
    },
    {
      "cell_type": "code",
      "metadata": {
        "colab": {
          "base_uri": "https://localhost:8080/",
          "height": 287
        },
        "id": "WaPaW7neCRn4",
        "outputId": "9882000c-1965-4158-b5cb-c0ea177c9c37"
      },
      "source": [
        "df.describe(include=\"all\")"
      ],
      "execution_count": 31,
      "outputs": [
        {
          "output_type": "execute_result",
          "data": {
            "text/html": [
              "<div>\n",
              "<style scoped>\n",
              "    .dataframe tbody tr th:only-of-type {\n",
              "        vertical-align: middle;\n",
              "    }\n",
              "\n",
              "    .dataframe tbody tr th {\n",
              "        vertical-align: top;\n",
              "    }\n",
              "\n",
              "    .dataframe thead th {\n",
              "        text-align: right;\n",
              "    }\n",
              "</style>\n",
              "<table border=\"1\" class=\"dataframe\">\n",
              "  <thead>\n",
              "    <tr style=\"text-align: right;\">\n",
              "      <th></th>\n",
              "      <th>Hours</th>\n",
              "      <th>Scores</th>\n",
              "    </tr>\n",
              "  </thead>\n",
              "  <tbody>\n",
              "    <tr>\n",
              "      <th>count</th>\n",
              "      <td>25.000000</td>\n",
              "      <td>25.000000</td>\n",
              "    </tr>\n",
              "    <tr>\n",
              "      <th>mean</th>\n",
              "      <td>5.012000</td>\n",
              "      <td>51.480000</td>\n",
              "    </tr>\n",
              "    <tr>\n",
              "      <th>std</th>\n",
              "      <td>2.525094</td>\n",
              "      <td>25.286887</td>\n",
              "    </tr>\n",
              "    <tr>\n",
              "      <th>min</th>\n",
              "      <td>1.100000</td>\n",
              "      <td>17.000000</td>\n",
              "    </tr>\n",
              "    <tr>\n",
              "      <th>25%</th>\n",
              "      <td>2.700000</td>\n",
              "      <td>30.000000</td>\n",
              "    </tr>\n",
              "    <tr>\n",
              "      <th>50%</th>\n",
              "      <td>4.800000</td>\n",
              "      <td>47.000000</td>\n",
              "    </tr>\n",
              "    <tr>\n",
              "      <th>75%</th>\n",
              "      <td>7.400000</td>\n",
              "      <td>75.000000</td>\n",
              "    </tr>\n",
              "    <tr>\n",
              "      <th>max</th>\n",
              "      <td>9.200000</td>\n",
              "      <td>95.000000</td>\n",
              "    </tr>\n",
              "  </tbody>\n",
              "</table>\n",
              "</div>"
            ],
            "text/plain": [
              "           Hours     Scores\n",
              "count  25.000000  25.000000\n",
              "mean    5.012000  51.480000\n",
              "std     2.525094  25.286887\n",
              "min     1.100000  17.000000\n",
              "25%     2.700000  30.000000\n",
              "50%     4.800000  47.000000\n",
              "75%     7.400000  75.000000\n",
              "max     9.200000  95.000000"
            ]
          },
          "metadata": {
            "tags": []
          },
          "execution_count": 31
        }
      ]
    },
    {
      "cell_type": "code",
      "metadata": {
        "colab": {
          "base_uri": "https://localhost:8080/"
        },
        "id": "tLPOaJiJDOqV",
        "outputId": "733517c2-ec76-4f31-e960-f101db3f4859"
      },
      "source": [
        "print('Rows     :',df.shape[0])\r\n",
        "print('Columns  :',df.shape[1])\r\n",
        "print('\\nFeatures :\\n     :',df.columns.tolist())\r\n",
        "print('\\nMissing values    :',df.isnull().values.sum())\r\n",
        "print('\\nUnique values :  \\n',df.nunique())"
      ],
      "execution_count": 32,
      "outputs": [
        {
          "output_type": "stream",
          "text": [
            "Rows     : 25\n",
            "Columns  : 2\n",
            "\n",
            "Features :\n",
            "     : ['Hours', 'Scores']\n",
            "\n",
            "Missing values    : 0\n",
            "\n",
            "Unique values :  \n",
            " Hours     23\n",
            "Scores    23\n",
            "dtype: int64\n"
          ],
          "name": "stdout"
        }
      ]
    },
    {
      "cell_type": "markdown",
      "metadata": {
        "id": "wDsmfgCXsa3I"
      },
      "source": [
        "Total Values in \"Hours\"."
      ]
    },
    {
      "cell_type": "code",
      "metadata": {
        "colab": {
          "base_uri": "https://localhost:8080/"
        },
        "id": "iSUXyXI4DdTY",
        "outputId": "d67f2d6d-4107-465d-ab7a-d75f57869ed1"
      },
      "source": [
        "df['Hours'].value_counts()"
      ],
      "execution_count": 33,
      "outputs": [
        {
          "output_type": "execute_result",
          "data": {
            "text/plain": [
              "2.5    2\n",
              "2.7    2\n",
              "3.8    1\n",
              "8.5    1\n",
              "3.5    1\n",
              "1.5    1\n",
              "5.5    1\n",
              "4.5    1\n",
              "5.9    1\n",
              "6.1    1\n",
              "7.7    1\n",
              "1.9    1\n",
              "1.1    1\n",
              "4.8    1\n",
              "8.3    1\n",
              "8.9    1\n",
              "7.4    1\n",
              "7.8    1\n",
              "5.1    1\n",
              "3.2    1\n",
              "9.2    1\n",
              "3.3    1\n",
              "6.9    1\n",
              "Name: Hours, dtype: int64"
            ]
          },
          "metadata": {
            "tags": []
          },
          "execution_count": 33
        }
      ]
    },
    {
      "cell_type": "markdown",
      "metadata": {
        "id": "XhzopWN1sgxS"
      },
      "source": [
        "Total values in \"Scores\"."
      ]
    },
    {
      "cell_type": "code",
      "metadata": {
        "colab": {
          "base_uri": "https://localhost:8080/"
        },
        "id": "qF4hmXUSDlhY",
        "outputId": "13c849d3-9c25-4e21-8b94-43ae9b7a4b01"
      },
      "source": [
        "df['Scores'].value_counts()"
      ],
      "execution_count": 34,
      "outputs": [
        {
          "output_type": "execute_result",
          "data": {
            "text/plain": [
              "30    3\n",
              "95    1\n",
              "62    1\n",
              "85    1\n",
              "86    1\n",
              "67    1\n",
              "24    1\n",
              "69    1\n",
              "17    1\n",
              "41    1\n",
              "42    1\n",
              "75    1\n",
              "47    1\n",
              "76    1\n",
              "81    1\n",
              "20    1\n",
              "21    1\n",
              "54    1\n",
              "88    1\n",
              "25    1\n",
              "27    1\n",
              "60    1\n",
              "35    1\n",
              "Name: Scores, dtype: int64"
            ]
          },
          "metadata": {
            "tags": []
          },
          "execution_count": 34
        }
      ]
    },
    {
      "cell_type": "markdown",
      "metadata": {
        "id": "B3Y3Ah9yq0pp"
      },
      "source": [
        "##EDA\r\n",
        "##Univariate Analysis\r\n",
        "# Distribution plot for 'Hours'"
      ]
    },
    {
      "cell_type": "code",
      "metadata": {
        "colab": {
          "base_uri": "https://localhost:8080/",
          "height": 350
        },
        "id": "t9W0RpRLD5eP",
        "outputId": "837ee02b-e5ea-42aa-f057-df3fcc8101c1"
      },
      "source": [
        "sns.distplot(df['Hours'])\r\n",
        "plt.xlabel('Hours')\r\n",
        "plt.ylabel('Probability')\r\n",
        "plt.title('Distantplot for Hours')\r\n",
        "plt.show()\r\n"
      ],
      "execution_count": 35,
      "outputs": [
        {
          "output_type": "stream",
          "text": [
            "/usr/local/lib/python3.6/dist-packages/seaborn/distributions.py:2551: FutureWarning: `distplot` is a deprecated function and will be removed in a future version. Please adapt your code to use either `displot` (a figure-level function with similar flexibility) or `histplot` (an axes-level function for histograms).\n",
            "  warnings.warn(msg, FutureWarning)\n"
          ],
          "name": "stderr"
        },
        {
          "output_type": "display_data",
          "data": {
            "image/png": "[encoded data removed]",
            "text/plain": [
              "<Figure size 432x288 with 1 Axes>"
            ]
          },
          "metadata": {
            "tags": [],
            "needs_background": "light"
          }
        }
      ]
    },
    {
      "cell_type": "markdown",
      "metadata": {
        "id": "qoOPEUUBq6mh"
      },
      "source": [
        "##Distribution plot for 'Scores'"
      ]
    },
    {
      "cell_type": "code",
      "metadata": {
        "colab": {
          "base_uri": "https://localhost:8080/",
          "height": 350
        },
        "id": "YqZ5i3QDECvs",
        "outputId": "ba9711c0-4d9b-4456-c98c-59cbe42844bc"
      },
      "source": [
        "sns.distplot(df['Scores'])\r\n",
        "plt.xlabel('Scores')\r\n",
        "plt.ylabel('Probability')\r\n",
        "plt.title('Distanttplot for Scores')\r\n",
        "plt.show()\r\n"
      ],
      "execution_count": 37,
      "outputs": [
        {
          "output_type": "stream",
          "text": [
            "/usr/local/lib/python3.6/dist-packages/seaborn/distributions.py:2551: FutureWarning: `distplot` is a deprecated function and will be removed in a future version. Please adapt your code to use either `displot` (a figure-level function with similar flexibility) or `histplot` (an axes-level function for histograms).\n",
            "  warnings.warn(msg, FutureWarning)\n"
          ],
          "name": "stderr"
        },
        {
          "output_type": "display_data",
          "data": {
            "image/png": "[encoded data removed]",
            "text/plain": [
              "<Figure size 432x288 with 1 Axes>"
            ]
          },
          "metadata": {
            "tags": [],
            "needs_background": "light"
          }
        }
      ]
    },
    {
      "cell_type": "markdown",
      "metadata": {
        "id": "HRPxV_NArDMG"
      },
      "source": [
        "\r\n",
        "#Bivariate Analysis\r\n",
        "\r\n",
        "##It Define empirical relationship between x and y"
      ]
    },
    {
      "cell_type": "code",
      "metadata": {
        "colab": {
          "base_uri": "https://localhost:8080/",
          "height": 294
        },
        "id": "yYxisiABEN1p",
        "outputId": "5e65c383-be23-4f5a-bd68-b5cd3f310a94"
      },
      "source": [
        "sns.scatterplot(x=df['Hours'],y=df['Scores'])\r\n",
        "plt.xlabel('Hours')\r\n",
        "plt.ylabel('Scores(Perentage)')\r\n",
        "plt.title('Scores(Percentage) Vs Hours')\r\n",
        "plt.show()\r\n"
      ],
      "execution_count": 38,
      "outputs": [
        {
          "output_type": "display_data",
          "data": {
            "image/png": "[encoded data removed]",
            "text/plain": [
              "<Figure size 432x288 with 1 Axes>"
            ]
          },
          "metadata": {
            "tags": [],
            "needs_background": "light"
          }
        }
      ]
    },
    {
      "cell_type": "markdown",
      "metadata": {
        "id": "sIxORNierL3b"
      },
      "source": [
        "#From above scatter plot, it is observed that scores are highly positively correlated with number of hours spent in studying. As the number of hours increases so shall the marks increase"
      ]
    },
    {
      "cell_type": "markdown",
      "metadata": {
        "id": "BYyGCq_PrP_E"
      },
      "source": [
        "##Multivariate Analysis"
      ]
    },
    {
      "cell_type": "code",
      "metadata": {
        "colab": {
          "base_uri": "https://localhost:8080/",
          "height": 268
        },
        "id": "DD4jK5RPEeEz",
        "outputId": "00a817d9-62b6-4cae-ff8c-60b0e8ccf646"
      },
      "source": [
        "ax=sns.heatmap(df.corr(),annot=True)\r\n",
        "bottom,top=ax.get_ylim()\r\n",
        "ax.set_ylim(bottom+0.10,top-0.10)\r\n",
        "plt.show()"
      ],
      "execution_count": 8,
      "outputs": [
        {
          "output_type": "display_data",
          "data": {
            "image/png": "[encoded data removed]",
            "text/plain": [
              "<Figure size 432x288 with 2 Axes>"
            ]
          },
          "metadata": {
            "tags": [],
            "needs_background": "light"
          }
        }
      ]
    },
    {
      "cell_type": "markdown",
      "metadata": {
        "id": "OH9psD6VrVEJ"
      },
      "source": [
        "##From the heatmap, it observed that the correlation is highly positive and the value of correlation between the hours of study and scores is 0.98"
      ]
    },
    {
      "cell_type": "markdown",
      "metadata": {
        "id": "2YaaliZlraKI"
      },
      "source": [
        "##Preparing the data for modeling"
      ]
    },
    {
      "cell_type": "code",
      "metadata": {
        "id": "ahFj_OyoEs7W"
      },
      "source": [
        "X=df[['Hours']]\r\n",
        "y=df[['Scores']]\r\n"
      ],
      "execution_count": 9,
      "outputs": []
    },
    {
      "cell_type": "markdown",
      "metadata": {
        "id": "OPAzUXVVrd46"
      },
      "source": [
        "##Splitting the data in train and test"
      ]
    },
    {
      "cell_type": "code",
      "metadata": {
        "colab": {
          "base_uri": "https://localhost:8080/"
        },
        "id": "7GBEW805E_hY",
        "outputId": "74d65809-5e34-4236-edc0-e312af3eeb6c"
      },
      "source": [
        "from sklearn.model_selection import train_test_split\r\n",
        "Xtrain,Xtest,ytrain,ytest=train_test_split(X, y, test_size=0.2, random_state=0)\r\n",
        "Xtrain.shape , Xtest.shape\r\n"
      ],
      "execution_count": 10,
      "outputs": [
        {
          "output_type": "execute_result",
          "data": {
            "text/plain": [
              "((20, 1), (5, 1))"
            ]
          },
          "metadata": {
            "tags": []
          },
          "execution_count": 10
        }
      ]
    },
    {
      "cell_type": "markdown",
      "metadata": {
        "id": "iCmd-63Vrkn1"
      },
      "source": [
        "##Using Linear Regression for building the model and prediction"
      ]
    },
    {
      "cell_type": "code",
      "metadata": {
        "id": "G-PfW2ibFFlY"
      },
      "source": [
        "from sklearn.linear_model import LinearRegression"
      ],
      "execution_count": 39,
      "outputs": []
    },
    {
      "cell_type": "code",
      "metadata": {
        "id": "EjAEBs79FRgE"
      },
      "source": [
        "lin=LinearRegression(fit_intercept=True)"
      ],
      "execution_count": 40,
      "outputs": []
    },
    {
      "cell_type": "markdown",
      "metadata": {
        "id": "i3XhAIekrp4e"
      },
      "source": [
        "##Fitting the model"
      ]
    },
    {
      "cell_type": "code",
      "metadata": {
        "colab": {
          "base_uri": "https://localhost:8080/"
        },
        "id": "2l6AzzmYFVAo",
        "outputId": "c48102d8-2b21-42db-dc44-4f49901c9188"
      },
      "source": [
        "lin.fit(Xtrain,ytrain)"
      ],
      "execution_count": 41,
      "outputs": [
        {
          "output_type": "execute_result",
          "data": {
            "text/plain": [
              "LinearRegression(copy_X=True, fit_intercept=True, n_jobs=None, normalize=False)"
            ]
          },
          "metadata": {
            "tags": []
          },
          "execution_count": 41
        }
      ]
    },
    {
      "cell_type": "code",
      "metadata": {
        "colab": {
          "base_uri": "https://localhost:8080/"
        },
        "id": "QBPSjH87FYEF",
        "outputId": "0d908294-b279-4577-a568-3845c6458177"
      },
      "source": [
        "# Linear Regression intercept\r\n",
        "lin.intercept_\r\n"
      ],
      "execution_count": 42,
      "outputs": [
        {
          "output_type": "execute_result",
          "data": {
            "text/plain": [
              "array([2.01816004])"
            ]
          },
          "metadata": {
            "tags": []
          },
          "execution_count": 42
        }
      ]
    },
    {
      "cell_type": "code",
      "metadata": {
        "colab": {
          "base_uri": "https://localhost:8080/"
        },
        "id": "FdCpzugFFdAj",
        "outputId": "242adf11-7b55-46c7-9b2c-bdfe3fad6f2e"
      },
      "source": [
        "# Linear Regression Coefficient for hours\r\n",
        "lin.coef_"
      ],
      "execution_count": 43,
      "outputs": [
        {
          "output_type": "execute_result",
          "data": {
            "text/plain": [
              "array([[9.91065648]])"
            ]
          },
          "metadata": {
            "tags": []
          },
          "execution_count": 43
        }
      ]
    },
    {
      "cell_type": "markdown",
      "metadata": {
        "id": "gvqRKzmnrwgc"
      },
      "source": [
        "##Plotting the regression **line**"
      ]
    },
    {
      "cell_type": "code",
      "metadata": {
        "colab": {
          "base_uri": "https://localhost:8080/",
          "height": 294
        },
        "id": "rJIr5jSbFlW9",
        "outputId": "67f9930a-d966-45f5-fbf5-53929e4479c6"
      },
      "source": [
        "plt.scatter(X,y)\r\n",
        "plt.plot(X,lr.predict(X),color='black')\r\n",
        "plt.xlabel('Hours')\r\n",
        "plt.ylabel('Scores')\r\n",
        "plt.title('Regression Line')\r\n",
        "plt.show()"
      ],
      "execution_count": 44,
      "outputs": [
        {
          "output_type": "display_data",
          "data": {
            "image/png": "[encoded data removed]",
            "text/plain": [
              "<Figure size 432x288 with 1 Axes>"
            ]
          },
          "metadata": {
            "tags": [],
            "needs_background": "light"
          }
        }
      ]
    },
    {
      "cell_type": "markdown",
      "metadata": {
        "id": "fYPkGJSer1_F"
      },
      "source": [
        "##Predicting for Ytest"
      ]
    },
    {
      "cell_type": "code",
      "metadata": {
        "colab": {
          "base_uri": "https://localhost:8080/"
        },
        "id": "vvG4h7OQFrgE",
        "outputId": "bf939c0e-c169-475f-efef-18ce1db7174e"
      },
      "source": [
        "ypred = lin.predict(Xtest)\r\n",
        "print(ypred)"
      ],
      "execution_count": 45,
      "outputs": [
        {
          "output_type": "stream",
          "text": [
            "[[16.88414476]\n",
            " [33.73226078]\n",
            " [75.357018  ]\n",
            " [26.79480124]\n",
            " [60.49103328]]\n"
          ],
          "name": "stdout"
        }
      ]
    },
    {
      "cell_type": "markdown",
      "metadata": {
        "id": "dBHPon0CzKuD"
      },
      "source": [
        "# flatten() \r\n",
        "##function is used to get a copy of an given array collapsed into one dimension.\r\n",
        "##It is used for converting nD array into 1D array "
      ]
    },
    {
      "cell_type": "code",
      "metadata": {
        "id": "l0WKf2E-FuX2"
      },
      "source": [
        "ypred=ypred.flatten()\r\n"
      ],
      "execution_count": 46,
      "outputs": []
    },
    {
      "cell_type": "code",
      "metadata": {
        "id": "dBfnGxpUFxO-"
      },
      "source": [
        "dataset = pd.DataFrame({'Actual':ytest.values.flatten(),'Prediction':ypred})"
      ],
      "execution_count": 48,
      "outputs": []
    },
    {
      "cell_type": "code",
      "metadata": {
        "colab": {
          "base_uri": "https://localhost:8080/"
        },
        "id": "mEEXBI4iF0jf",
        "outputId": "ce5e6655-8ee9-4e63-e038-7cfdf2747dad"
      },
      "source": [
        "print(dataset)\r\n"
      ],
      "execution_count": 49,
      "outputs": [
        {
          "output_type": "stream",
          "text": [
            "   Actual  Prediction\n",
            "0      20   16.884145\n",
            "1      27   33.732261\n",
            "2      69   75.357018\n",
            "3      30   26.794801\n",
            "4      62   60.491033\n"
          ],
          "name": "stdout"
        }
      ]
    },
    {
      "cell_type": "markdown",
      "metadata": {
        "id": "v3CtwsOer8Z0"
      },
      "source": [
        "# Testing for new data"
      ]
    },
    {
      "cell_type": "code",
      "metadata": {
        "colab": {
          "base_uri": "https://localhost:8080/"
        },
        "id": "6rndpM27F2e4",
        "outputId": "4d5ba25d-7f7e-4250-9abe-dd46e8ed53f6"
      },
      "source": [
        "hours =np.array(9.00).reshape(1,-1)\r\n",
        "result= lin.predict(hours)\r\n",
        "print('If you Study : ',np.asscalar(hours),\"Hours\")\r\n",
        "print('Your  score will be  (%): ',np.asscalar(result),\"\\nHappy Learning\")"
      ],
      "execution_count": 58,
      "outputs": [
        {
          "output_type": "stream",
          "text": [
            "If you Study :  9.0 Hours\n",
            "Your  score will be  (%):  91.21406836721482 \n",
            "Happy Learning\n"
          ],
          "name": "stdout"
        },
        {
          "output_type": "stream",
          "text": [
            "/usr/local/lib/python3.6/dist-packages/ipykernel_launcher.py:3: DeprecationWarning: np.asscalar(a) is deprecated since NumPy v1.16, use a.item() instead\n",
            "  This is separate from the ipykernel package so we can avoid doing imports until\n",
            "/usr/local/lib/python3.6/dist-packages/ipykernel_launcher.py:4: DeprecationWarning: np.asscalar(a) is deprecated since NumPy v1.16, use a.item() instead\n",
            "  after removing the cwd from sys.path.\n"
          ],
          "name": "stderr"
        }
      ]
    },
    {
      "cell_type": "code",
      "metadata": {
        "id": "yKbotEOD35DB"
      },
      "source": [
        ""
      ],
      "execution_count": null,
      "outputs": []
    }
  ]
}